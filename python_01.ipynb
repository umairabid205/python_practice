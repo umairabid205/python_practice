{
 "cells": [
  {
   "cell_type": "markdown",
   "id": "7fcaf44a-98b9-41fe-91f9-ffaeb7611222",
   "metadata": {},
   "source": [
    "<h1>Output</h1>"
   ]
  },
  {
   "cell_type": "code",
   "execution_count": 2,
   "id": "2e3df8b1-5b14-409f-90de-f44cad829f64",
   "metadata": {},
   "outputs": [
    {
     "name": "stdout",
     "output_type": "stream",
     "text": [
      "Hello World\n"
     ]
    }
   ],
   "source": [
    "print(\"Hello World\")"
   ]
  },
  {
   "cell_type": "markdown",
   "id": "a9c2be67-1c77-49a9-891d-8da6616a9578",
   "metadata": {},
   "source": [
    "<h1>Data Structures</h1>"
   ]
  },
  {
   "cell_type": "code",
   "execution_count": 25,
   "id": "5a64023a-341a-4214-8388-bee90cd022eb",
   "metadata": {},
   "outputs": [
    {
     "name": "stdout",
     "output_type": "stream",
     "text": [
      "This is an array:  ['Hi', 103]\n"
     ]
    }
   ],
   "source": [
    "# Array\n",
    "array = ['Hi', 103]\n",
    "print('This is an array: ',array)"
   ]
  },
  {
   "cell_type": "code",
   "execution_count": 21,
   "id": "4ff563b9-c3b3-49f8-9928-68fa97b89929",
   "metadata": {},
   "outputs": [
    {
     "name": "stdout",
     "output_type": "stream",
     "text": [
      "This is a list:  ['Hi', 103]\n"
     ]
    }
   ],
   "source": [
    "#List\n",
    "list = ['Hi',103,]\n",
    "print('This is a list: ',list)"
   ]
  },
  {
   "cell_type": "code",
   "execution_count": 19,
   "id": "00b44a55-650a-487b-bb10-fd2230a6a269",
   "metadata": {},
   "outputs": [
    {
     "name": "stdout",
     "output_type": "stream",
     "text": [
      "This is a tuple:  (1, 2, 'Hi')\n"
     ]
    }
   ],
   "source": [
    "#tuples\n",
    "tuple = ('Hi',103)\n",
    "print('This is a tuple: ',tuple)"
   ]
  },
  {
   "cell_type": "code",
   "execution_count": 17,
   "id": "73693bb5-9fe5-420b-b2d4-dfa67e7c0fca",
   "metadata": {},
   "outputs": [
    {
     "name": "stdout",
     "output_type": "stream",
     "text": [
      "This is a set:  {'Hi', 103}\n"
     ]
    }
   ],
   "source": [
    "#set\n",
    "set = {'Hi',103}\n",
    "print('This is a set: ',set)"
   ]
  },
  {
   "cell_type": "code",
   "execution_count": 27,
   "id": "5cfb7a94-864d-47ba-b942-0bdf2c8d8ae8",
   "metadata": {},
   "outputs": [
    {
     "name": "stdout",
     "output_type": "stream",
     "text": [
      "{'Name': 'Umair Abid', 'Gender': 'Male', 'Age': 25}\n"
     ]
    }
   ],
   "source": [
    "#dictionary\n",
    "dictionary = {'Name':'Umair Abid',\n",
    "              'Gender':'Male',\n",
    "              'Age':25\n",
    "             }\n",
    "print(dictionary)\n",
    "              "
   ]
  },
  {
   "cell_type": "code",
   "execution_count": 29,
   "id": "d06fe4b5-3429-4b06-afc0-7951749090a3",
   "metadata": {},
   "outputs": [
    {
     "name": "stdin",
     "output_type": "stream",
     "text": [
      "Enter your name. Umair\n"
     ]
    },
    {
     "name": "stdout",
     "output_type": "stream",
     "text": [
      "Good Morning, Umair\n"
     ]
    }
   ],
   "source": [
    "#input from user\n",
    "name = input(\"Enter your name.\")\n",
    "print(\"Good Morning,\",name)"
   ]
  },
  {
   "cell_type": "code",
   "execution_count": 33,
   "id": "3999836b-2399-423d-9d1f-9434545827ff",
   "metadata": {},
   "outputs": [
    {
     "name": "stdout",
     "output_type": "stream",
     "text": [
      "0\n"
     ]
    }
   ],
   "source": [
    "#xor operator\n",
    "print(2^2)  # it convert both into binary and then comapare both or same or not"
   ]
  },
  {
   "cell_type": "code",
   "execution_count": 35,
   "id": "113f9afe-5e2d-4305-8756-36fb28aedbc6",
   "metadata": {},
   "outputs": [
    {
     "name": "stdout",
     "output_type": "stream",
     "text": [
      "1\n"
     ]
    }
   ],
   "source": [
    "print(2^3)"
   ]
  },
  {
   "cell_type": "code",
   "execution_count": 39,
   "id": "8b1292bb-f43b-4a42-a9b2-f2a00c98b4e4",
   "metadata": {},
   "outputs": [
    {
     "name": "stdout",
     "output_type": "stream",
     "text": [
      "True\n"
     ]
    }
   ],
   "source": [
    "#memborship operator\n",
    "print('P' in 'Pakistan')"
   ]
  },
  {
   "cell_type": "code",
   "execution_count": 47,
   "id": "5f180fd3-a940-485f-8fc5-57dfc693df48",
   "metadata": {},
   "outputs": [
    {
     "name": "stdin",
     "output_type": "stream",
     "text": [
      "Enter the string:  Hi, there this is pyhton\n"
     ]
    },
    {
     "name": "stdout",
     "output_type": "stream",
     "text": [
      "You have entered:  Hi, there this is pyhton\n",
      "nothyp si siht ereht ,iH\n"
     ]
    }
   ],
   "source": [
    "# challenge 1\n",
    "string = input(\"Enter the string: \")\n",
    "print(\"You have entered: \",string)\n",
    "\n",
    "reversed_string = \"\"\n",
    "\n",
    "for index in range(len(string)-1,-1,-1):\n",
    "    \n",
    "    reversed_string+=string[index]\n",
    "    \n",
    "print(reversed_string)"
   ]
  },
  {
   "cell_type": "code",
   "execution_count": 85,
   "id": "9adecfcf-305f-4b7e-a2d7-709d7efc1e03",
   "metadata": {},
   "outputs": [
    {
     "name": "stdin",
     "output_type": "stream",
     "text": [
      "Enter the string:  Pakistan\n"
     ]
    },
    {
     "name": "stdout",
     "output_type": "stream",
     "text": [
      "7,     =  + n\n",
      "6,    n = n + a\n",
      "5,    na = na + t\n",
      "4,    nat = nat + s\n",
      "3,    nats = nats + i\n",
      "2,    natsi = natsi + k\n",
      "1,    natsik = natsik + a\n",
      "0,    natsika = natsika + p\n",
      "This string 'Pakistan' isn't palindrome\n"
     ]
    }
   ],
   "source": [
    "# challenge 2 Check Palindrome\n",
    "def is_palindrome(string):\n",
    "    # remove spaces and  convert into lower case\n",
    "    lower = string.replace(\" \",\"\").lower()\n",
    "\n",
    "    reversed_string = \"\"\n",
    "    \n",
    "    # reverse the string\n",
    "    for index in range(len(lower)-1,-1,-1):\n",
    "        #print every iteration\n",
    "        print(f\"{index},    {reversed_string} = {reversed_string} + {lower[index]}\")\n",
    "        reversed_string+=lower[index]\n",
    "    return lower == reversed_string  #(reversed_string) and returns True if they match, otherwise False.\n",
    "\n",
    "# taking a string input from user\n",
    "input_string = input(\"Enter the string: \")\n",
    "if is_palindrome(input_string):\n",
    "    print(f\"This string '{input_string}' is  palindrome\")\n",
    "else:\n",
    "    print(f\"This string '{input_string}' isn't palindrome\")"
   ]
  },
  {
   "cell_type": "code",
   "execution_count": 83,
   "id": "9e3331bc-e7a9-4b41-99dc-34115591d29a",
   "metadata": {},
   "outputs": [
    {
     "name": "stdin",
     "output_type": "stream",
     "text": [
      "Enter a Number:  5\n"
     ]
    },
    {
     "name": "stdout",
     "output_type": "stream",
     "text": [
      "1,    1= 1*1\n",
      "2,    1= 1*2\n",
      "3,    2= 2*3\n",
      "4,    6= 6*4\n",
      "5,    24= 24*5\n",
      "The factorial of 5 is 120.\n"
     ]
    }
   ],
   "source": [
    "#factorial\n",
    "\n",
    "def factorial(number):\n",
    "    if number<0:\n",
    "        print(\"Factorial is not defined for negative numbers.\")\n",
    "    result = 1\n",
    "    for index in range(1,number+1):\n",
    "        print(f\"{index},    {result}= {result}*{index}\")\n",
    "        result = result*index\n",
    "        \n",
    "    return result\n",
    "\n",
    "number = int(input(\"Enter a Number: \"))\n",
    "print(f\"The factorial of {number} is {factorial(number)}.\")"
   ]
  },
  {
   "cell_type": "code",
   "execution_count": 95,
   "id": "ea82ebcf-3a6a-4db7-b108-f183bc7e7cc5",
   "metadata": {},
   "outputs": [
    {
     "name": "stdin",
     "output_type": "stream",
     "text": [
      "Enter the number of Month:  7\n"
     ]
    },
    {
     "name": "stdout",
     "output_type": "stream",
     "text": [
      "July\n"
     ]
    }
   ],
   "source": [
    "number = int(input(\"Enter the number of Month: \"))\n",
    "\n",
    "if number == 1:\n",
    "    print(\"January\")\n",
    "elif number == 2:\n",
    "    print(\"February\")\n",
    "elif number == 3:\n",
    "    print(\"March\")\n",
    "elif number == 4:\n",
    "    print(\"April\")\n",
    "elif number == 5:\n",
    "    print(\"May\")\n",
    "elif number == 6: \n",
    "    print(\"June\")\n",
    "elif number == 7:\n",
    "    print(\"July\")\n",
    "elif number == 8:\n",
    "    print(\"August\")\n",
    "elif number == 9:\n",
    "    print(\"September\")\n",
    "elif number == 10:\n",
    "    print(\"October\")\n",
    "elif number == 11:\n",
    "    print(\"November\")\n",
    "elif number == 12:\n",
    "    print(\"December\")\n",
    "else:\n",
    "    print(\"invalid number\")\n",
    "    "
   ]
  },
  {
   "cell_type": "code",
   "execution_count": 103,
   "id": "39a995f2-b4c9-4135-84dc-1592736313c7",
   "metadata": {},
   "outputs": [
    {
     "name": "stdin",
     "output_type": "stream",
     "text": [
      "Enter a number. 2\n"
     ]
    },
    {
     "name": "stdout",
     "output_type": "stream",
     "text": [
      "2 * 1 = 2\n",
      "2 * 2 = 4\n",
      "2 * 3 = 6\n",
      "2 * 4 = 8\n",
      "2 * 5 = 10\n",
      "2 * 6 = 12\n",
      "2 * 7 = 14\n",
      "2 * 8 = 16\n",
      "2 * 9 = 18\n",
      "2 * 10 = 20\n"
     ]
    }
   ],
   "source": [
    "def table(num):\n",
    "\n",
    "    for index in range(1,11):\n",
    "        print(f\"{num} * {index} = {num*index}\")\n",
    "\n",
    "num = int(input(\"Enter a number.\"))\n",
    "table(num)"
   ]
  },
  {
   "cell_type": "code",
   "execution_count": 105,
   "id": "9c667f71-1e0f-4d43-ac9b-8f3dbd3e7d88",
   "metadata": {},
   "outputs": [],
   "source": [
    "import numpy as np"
   ]
  },
  {
   "cell_type": "code",
   "execution_count": 107,
   "id": "15b4ad98-3608-4a81-bc86-03a6a31e4ee5",
   "metadata": {},
   "outputs": [],
   "source": [
    "arr = np.array([1,2,3,4,5])"
   ]
  },
  {
   "cell_type": "code",
   "execution_count": 109,
   "id": "0aee6a23-046d-496f-9bc2-fae5a8f67ce8",
   "metadata": {},
   "outputs": [
    {
     "data": {
      "text/plain": [
       "array([1, 2, 3, 4, 5])"
      ]
     },
     "execution_count": 109,
     "metadata": {},
     "output_type": "execute_result"
    }
   ],
   "source": [
    "arr"
   ]
  },
  {
   "cell_type": "code",
   "execution_count": 111,
   "id": "f9963643-efba-448d-b13b-62c0d1d5d05c",
   "metadata": {},
   "outputs": [
    {
     "data": {
      "text/plain": [
       "numpy.ndarray"
      ]
     },
     "execution_count": 111,
     "metadata": {},
     "output_type": "execute_result"
    }
   ],
   "source": [
    "type(arr)"
   ]
  },
  {
   "cell_type": "code",
   "execution_count": 113,
   "id": "fe320c88-138a-40ab-a47c-bb05040b3f45",
   "metadata": {},
   "outputs": [
    {
     "data": {
      "text/plain": [
       "(5,)"
      ]
     },
     "execution_count": 113,
     "metadata": {},
     "output_type": "execute_result"
    }
   ],
   "source": [
    "arr.shape"
   ]
  },
  {
   "cell_type": "code",
   "execution_count": 119,
   "id": "7572ef6a-bf19-4dbc-a764-68cc235b5fdf",
   "metadata": {},
   "outputs": [],
   "source": [
    "arr = np.array([[1,2,3,4,5],[6,7,8,9,10],[11,12,13,14,15]])"
   ]
  },
  {
   "cell_type": "code",
   "execution_count": 121,
   "id": "aa5cfff7-85c1-4934-9ab4-476d1829366e",
   "metadata": {},
   "outputs": [
    {
     "data": {
      "text/plain": [
       "array([[ 1,  2,  3,  4,  5],\n",
       "       [ 6,  7,  8,  9, 10],\n",
       "       [11, 12, 13, 14, 15]])"
      ]
     },
     "execution_count": 121,
     "metadata": {},
     "output_type": "execute_result"
    }
   ],
   "source": [
    "arr"
   ]
  },
  {
   "cell_type": "code",
   "execution_count": 123,
   "id": "b2deecd5-8866-45f0-ac08-62632f7c01d3",
   "metadata": {},
   "outputs": [
    {
     "data": {
      "text/plain": [
       "(3, 5)"
      ]
     },
     "execution_count": 123,
     "metadata": {},
     "output_type": "execute_result"
    }
   ],
   "source": [
    "arr.shape"
   ]
  },
  {
   "cell_type": "code",
   "execution_count": 141,
   "id": "41dff826-f233-44bc-ae3a-f0e825730124",
   "metadata": {},
   "outputs": [
    {
     "data": {
      "text/plain": [
       "array([[1],\n",
       "       [3],\n",
       "       [5],\n",
       "       [7],\n",
       "       [9]])"
      ]
     },
     "execution_count": 141,
     "metadata": {},
     "output_type": "execute_result"
    }
   ],
   "source": [
    "np.arange(1,10,2).reshape(5,1)"
   ]
  },
  {
   "cell_type": "code",
   "execution_count": 153,
   "id": "5317d67f-9a6f-401a-882c-4ec7807a80f3",
   "metadata": {},
   "outputs": [
    {
     "data": {
      "text/plain": [
       "array([[1., 1.],\n",
       "       [1., 1.],\n",
       "       [1., 1.]])"
      ]
     },
     "execution_count": 153,
     "metadata": {},
     "output_type": "execute_result"
    }
   ],
   "source": [
    "np.ones((3,2))"
   ]
  },
  {
   "cell_type": "code",
   "execution_count": 155,
   "id": "403f87fb-9b48-4447-94c0-eba02eed6a81",
   "metadata": {},
   "outputs": [
    {
     "data": {
      "text/plain": [
       "array([[1., 0., 0.],\n",
       "       [0., 1., 0.],\n",
       "       [0., 0., 1.]])"
      ]
     },
     "execution_count": 155,
     "metadata": {},
     "output_type": "execute_result"
    }
   ],
   "source": [
    "np.eye(3)"
   ]
  },
  {
   "cell_type": "code",
   "execution_count": 181,
   "id": "ae7d84b3-d22e-4746-87b1-67d77d5619fe",
   "metadata": {},
   "outputs": [
    {
     "name": "stdout",
     "output_type": "stream",
     "text": [
      "1. Array = [[1 2 3 4 5]]\n",
      "2. Dimensions = 2\n",
      "3. Size = 5\n",
      "4. Shape = (1, 5)\n",
      "5. Item Size = 8\n",
      "6. Data Type = int64\n"
     ]
    }
   ],
   "source": [
    "arr = np.array([[1,2,3,4,5]])\n",
    "\n",
    "print(f\"1. Array = {arr}\")\n",
    "print(f\"2. Dimensions = {arr.ndim}\")\n",
    "print(f\"3. Size = {arr.size}\")\n",
    "print(f\"4. Shape = {arr.shape}\")\n",
    "print(f\"5. Item Size = {arr.itemsize}\")\n",
    "print(f\"6. Data Type = {arr.dtype}\")"
   ]
  },
  {
   "cell_type": "code",
   "execution_count": 187,
   "id": "faba932c-17fc-4969-8e2c-1b88d7565534",
   "metadata": {},
   "outputs": [],
   "source": [
    "arr = np.array([[1,2,3,4,5],[6,7,8,9,10],[11,12,13,14,15]])\n",
    "arr2 = np.array([[1,2,3,4,5],[6,7,8,9,10],[11,12,13,14,15]])\n",
    "\n",
    "addition = arr+arr2"
   ]
  },
  {
   "cell_type": "code",
   "execution_count": 189,
   "id": "7deb6a84-ebe5-4845-8d2e-8e9a21c57ebf",
   "metadata": {},
   "outputs": [
    {
     "name": "stdout",
     "output_type": "stream",
     "text": [
      "[[ 2  4  6  8 10]\n",
      " [12 14 16 18 20]\n",
      " [22 24 26 28 30]]\n"
     ]
    }
   ],
   "source": [
    "print(addition)"
   ]
  },
  {
   "cell_type": "code",
   "execution_count": null,
   "id": "414c012f-2c10-4e3e-913e-9ce6bb421c0a",
   "metadata": {},
   "outputs": [],
   "source": []
  }
 ],
 "metadata": {
  "kernelspec": {
   "display_name": "Python 3 (ipykernel)",
   "language": "python",
   "name": "python3"
  },
  "language_info": {
   "codemirror_mode": {
    "name": "ipython",
    "version": 3
   },
   "file_extension": ".py",
   "mimetype": "text/x-python",
   "name": "python",
   "nbconvert_exporter": "python",
   "pygments_lexer": "ipython3",
   "version": "3.12.4"
  }
 },
 "nbformat": 4,
 "nbformat_minor": 5
}
